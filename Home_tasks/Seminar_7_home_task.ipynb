{
 "cells": [
  {
   "cell_type": "markdown",
   "id": "f48277c0",
   "metadata": {},
   "source": [
    "# Семинар 7.\n",
    "# Нестандартные ситуации."
   ]
  },
  {
   "cell_type": "markdown",
   "id": "8eeb6460",
   "metadata": {},
   "source": [
    "## Домашнее задание.\n",
    "На основе выбранных продуктов из первого вебинара, выберите 2 A/B-теста и составьте план эксперимента, чтобы избежать Peeking Problem.   \n",
    "Распишите, какие метрики и как вы будете анализировать"
   ]
  },
  {
   "cell_type": "markdown",
   "id": "b27785aa",
   "metadata": {},
   "source": [
    "### Дизайн эксперимента 1: \n",
    "1. **Гипотеза**:\tЗапуск программы подарочных сертификатов для посетителей сайта *Sportmaster.ru* увеличит средний чек на **10%**, потому что посетители сайта будут дополнительно покупать подарочные сертификаты и использовать их в качестве подарков для своих близких и друзей.   \n",
    "   \n",
    "   \n",
    "2. **Что делаем**:\n",
    "    - Контрольная группа: Оставляем всё без изменений.\n",
    "    - Тестовая группа: Выпускаем в продажу подарочные сертификаты разного номинала.    \n",
    "       \n",
    "       \n",
    "3. **На каких пользователях тестируем**:\tНа всех пользователях сайта на **10%** трафика. Рандомно делим пользователей на две группы, контрольную и тестовую, для оценки влияния программы на увеличение оборота.   \n",
    " \n",
    " \n",
    "4. **Ключевые метрики для оценки эксперимента**:\n",
    "    - AvP (средний чек) - primary; \n",
    "    - Revenue - secondary. \n",
    "    \n",
    "**Длительность эксперимента 0,004 дня** (расчёт ниже)\n",
    "       \n",
    "       \n",
    "5. **Ожидаемый эффект**:\tУвеличение среднего чека на 10%.  \n",
    " \n",
    " \n",
    "6. **План действий в зависимости от результатов эксперимента**:\t\n",
    "    - При положительном результате эксперимента (в тестовой группе средний чек увеличивается на 10%) расширяем действие программы на всех пользователей сайта;\n",
    "    - Если результат не окажет статистически значимого эффекта на увеличение среднего чека, останавливаем эксперимент."
   ]
  },
  {
   "cell_type": "markdown",
   "id": "bb0d08bd",
   "metadata": {},
   "source": [
    "Расситаем время проведения эксперимента:"
   ]
  },
  {
   "cell_type": "markdown",
   "id": "2170ed34",
   "metadata": {},
   "source": [
    "Исторические данные: \n",
    "1. Средний трафик 7000 человек в день. \n",
    "2. Средний чек 8500 руб.\n",
    "3. Стандартная ошибка 3500\n",
    "4. Ожидаемый эффект - 10%\n",
    "5. alpha = 5% и beta = 20%"
   ]
  },
  {
   "cell_type": "code",
   "execution_count": 132,
   "id": "4560231a",
   "metadata": {},
   "outputs": [],
   "source": [
    "from statsmodels.stats.power import tt_ind_solve_power, zt_ind_solve_power\n",
    "from statsmodels.stats.proportion import proportion_effectsize\n",
    "from statsmodels.stats.meta_analysis import effectsize_smd\n",
    "from typing import Union\n",
    "import plotly.graph_objects as go\n",
    "from scipy import stats\n",
    "from math import asin\n",
    "import numpy as np"
   ]
  },
  {
   "cell_type": "code",
   "execution_count": 133,
   "id": "2009a233",
   "metadata": {},
   "outputs": [],
   "source": [
    "# исходные данные\n",
    "DAU = 7000\n",
    "avp_1 = 8500 \n",
    "std_1, std_2 = 750, 750 * 1.15\n",
    "delta = 0.1\n",
    "avp_2 = np.round(avp_1 + avp_1 * delta , 2)\n",
    "alfa = 0.05\n",
    "beta = 0.2"
   ]
  },
  {
   "cell_type": "markdown",
   "id": "dfc28dbf",
   "metadata": {},
   "source": [
    "По имеющимся данным рассчитаем размер выборки для оценки изменений:\n",
    "1. Найдем effectsize для непрерывной метрики:"
   ]
  },
  {
   "cell_type": "code",
   "execution_count": 134,
   "id": "7cb9f232",
   "metadata": {},
   "outputs": [],
   "source": [
    "def calc_continuous_es_alt(mean_control: Union[float, int],\n",
    "                            std_control: Union[float, int],\n",
    "                            mean_test: Union[float, int],\n",
    "                            std_test: Union[float, int]):\n",
    "    \n",
    "    effect_size = (mean_test - mean_control) / ((std_control**2 + std_test**2) / 2) ** 0.5\n",
    "    return effect_size"
   ]
  },
  {
   "cell_type": "code",
   "execution_count": 135,
   "id": "81fb1668",
   "metadata": {},
   "outputs": [
    {
     "data": {
      "text/plain": [
       "1.05170708305214"
      ]
     },
     "execution_count": 135,
     "metadata": {},
     "output_type": "execute_result"
    }
   ],
   "source": [
    "es_count = calc_continuous_es_alt(avp_1, std_1, avp_2, std_2)\n",
    "es_count"
   ]
  },
  {
   "cell_type": "markdown",
   "id": "71155d66",
   "metadata": {},
   "source": [
    "2. Рассчитаем минимально необходимую выборку для полученного effectsize"
   ]
  },
  {
   "cell_type": "code",
   "execution_count": 136,
   "id": "10721d4f",
   "metadata": {},
   "outputs": [],
   "source": [
    "def calc_sample_size_continous(effect_size: float, \n",
    "                              alpha: float = 0.05,\n",
    "                              beta: float = 0.2,\n",
    "                              ratio: Union[float, int] = 1):\n",
    "    \n",
    "    n = tt_ind_solve_power(effect_size=effect_size, \n",
    "                              alpha=alpha,\n",
    "                              power=1-beta,\n",
    "                              ratio=ratio,\n",
    "                          )\n",
    "    return int(n * 2)"
   ]
  },
  {
   "cell_type": "code",
   "execution_count": 137,
   "id": "eae3f23a",
   "metadata": {},
   "outputs": [
    {
     "name": "stdout",
     "output_type": "stream",
     "text": [
      "Минимальное количество пользователей сайта, необходимое для проверки результатов эксперимента:30\n"
     ]
    }
   ],
   "source": [
    "print(f'Минимальное количество пользователей сайта, необходимое для проверки результатов эксперимента:{calc_sample_size_continous(es_count)}')"
   ]
  },
  {
   "cell_type": "markdown",
   "id": "5f4c9112",
   "metadata": {},
   "source": [
    "3. Рассчитаем длительность эксперимента в днях.    \n",
    "\n",
    "Для этого полученное значение минимально необходимой выборки разделим на количество пользователей, посещающих сайт в день:"
   ]
  },
  {
   "cell_type": "code",
   "execution_count": 145,
   "id": "142ccab4",
   "metadata": {},
   "outputs": [
    {
     "name": "stdout",
     "output_type": "stream",
     "text": [
      "Количество дней эксперимента: 0.004285714285714286\n"
     ]
    }
   ],
   "source": [
    "print(f'Количество дней эксперимента: {calc_sample_size_continous(es_count) / DAU}')"
   ]
  },
  {
   "cell_type": "markdown",
   "id": "098829f2",
   "metadata": {},
   "source": [
    "### Дизайн эксперимента 2: \n",
    "1. **Гипотеза**:\tПеремещение на верх сайта *Sportmaster.ru* банера с информацией о распродаже сезонных товаров повысит конверсию на 30%, потому что пользователь сможет быстрее найти все сезонные товары на сайте.   \n",
    "   \n",
    "   \n",
    "2. **Что делаем**:\n",
    "    - Контрольная группа: Оставляем всё без изменений.\n",
    "    - Тестовая группа: Перемещаем блок информаци о распродаже сезонных товаров на верх первого экрана.    \n",
    "       \n",
    "       \n",
    "3. **На каких пользователях тестируем**:\tНа всех пользователях сайта на **10%** трафика. Рандомно делим пользователей на две группы, контрольную и тестовую, для оценки влияния программы на увеличение оборота.   \n",
    " \n",
    " \n",
    "4. **Ключевые метрики для оценки эксперимента**:\n",
    "    - CR - primary; \n",
    "    - Revenue - secondary. \n",
    "    \n",
    "**Длительность эксперимента 3 дня** (расчёт ниже)\n",
    "       \n",
    "       \n",
    "5. **Ожидаемый эффект**:\tувеличение количества покупок (конверсий) на 30%.  \n",
    " \n",
    " \n",
    "6. **План действий в зависимости от результатов эксперимента**:\t\n",
    "    - При положительном результате эксперимента (в тестовой группе конверсии увеличиваются на 30%) расширяем действие программы на всех пользователей сайта;\n",
    "    - Если результат не окажет статистически значимого эффекта на увеличение конверсий, останавливаем эксперимент."
   ]
  },
  {
   "cell_type": "markdown",
   "id": "37c5bbc3",
   "metadata": {},
   "source": [
    "Рассчитаем время проведения эксперимента:"
   ]
  },
  {
   "cell_type": "markdown",
   "id": "6e8da86e",
   "metadata": {},
   "source": [
    "Исторические данные: \n",
    "1. Средний трафик 7000 человек в день. \n",
    "2. Конверсия 2,5%.\n",
    "4. Ожидаемый эффект 30%\n",
    "5. alpha = 5% и beta = 20%"
   ]
  },
  {
   "cell_type": "code",
   "execution_count": 146,
   "id": "54c8f924",
   "metadata": {},
   "outputs": [
    {
     "data": {
      "text/plain": [
       "0.0325"
      ]
     },
     "execution_count": 146,
     "metadata": {},
     "output_type": "execute_result"
    }
   ],
   "source": [
    "# исходные данные\n",
    "DAU = 7000 \n",
    "conv_1 = 0.025\n",
    "delta = 0.3\n",
    "conv_2 = conv_1 + conv_1 * delta\n",
    "conv_2"
   ]
  },
  {
   "cell_type": "markdown",
   "id": "72941948",
   "metadata": {},
   "source": [
    "По имеющимся данным рассчитаем размер выборки для оценки изменений:\n",
    "1. Найдем effectsize для дискретной метрики:"
   ]
  },
  {
   "cell_type": "code",
   "execution_count": 147,
   "id": "043a1dda",
   "metadata": {},
   "outputs": [],
   "source": [
    "def calc_proportion_es(prob1: float, prob2: float):\n",
    "    \n",
    "    return abs(proportion_effectsize(prob1, prob2))"
   ]
  },
  {
   "cell_type": "code",
   "execution_count": 148,
   "id": "530bd0ae",
   "metadata": {},
   "outputs": [
    {
     "data": {
      "text/plain": [
       "0.044976832996452776"
      ]
     },
     "execution_count": 148,
     "metadata": {},
     "output_type": "execute_result"
    }
   ],
   "source": [
    "es_prop = calc_proportion_es(conv_1, conv_2)\n",
    "es_prop"
   ]
  },
  {
   "cell_type": "markdown",
   "id": "ea5ca71b",
   "metadata": {},
   "source": [
    "2. Рассчитаем минимально необходимую выборку для полученного effectsize "
   ]
  },
  {
   "cell_type": "code",
   "execution_count": 149,
   "id": "a23976d1",
   "metadata": {},
   "outputs": [],
   "source": [
    "def calc_sample_size_proportion(effect_size: float, \n",
    "                              alpha: float = 0.05,\n",
    "                              beta: float = 0.2,\n",
    "                              ratio: Union[float, int] = 1):\n",
    "    \n",
    "    n = zt_ind_solve_power(effect_size=effect_size, \n",
    "                              alpha=alpha,\n",
    "                              power=1-beta,\n",
    "                              ratio=ratio,\n",
    "                          )\n",
    "    return int(n * 2)"
   ]
  },
  {
   "cell_type": "code",
   "execution_count": 150,
   "id": "eeb5d3c1",
   "metadata": {},
   "outputs": [
    {
     "name": "stdout",
     "output_type": "stream",
     "text": [
      "Минимальное количество пользователей сайта, необходимое для проверки результатов эксперимента:15519\n"
     ]
    }
   ],
   "source": [
    "print(f'Минимальное количество пользователей сайта, необходимое для проверки результатов эксперимента:{calc_sample_size_proportion(es_prop)}')"
   ]
  },
  {
   "cell_type": "markdown",
   "id": "5994270a",
   "metadata": {},
   "source": [
    "3. Рассчитаем длительность эксперимента в днях.    \n",
    "\n",
    "Для этого полученное значение минимально необходимой выборки разделим на количество пользователей, посещающих сайт в день:"
   ]
  },
  {
   "cell_type": "code",
   "execution_count": 151,
   "id": "72c84766",
   "metadata": {},
   "outputs": [
    {
     "name": "stdout",
     "output_type": "stream",
     "text": [
      "Количество дней эксперимента: 2.217\n"
     ]
    }
   ],
   "source": [
    "print(f'Количество дней эксперимента: {calc_sample_size_proportion(es_prop) / DAU}')"
   ]
  },
  {
   "cell_type": "code",
   "execution_count": null,
   "id": "42184a48",
   "metadata": {},
   "outputs": [],
   "source": []
  }
 ],
 "metadata": {
  "kernelspec": {
   "display_name": "Python 3 (ipykernel)",
   "language": "python",
   "name": "python3"
  },
  "language_info": {
   "codemirror_mode": {
    "name": "ipython",
    "version": 3
   },
   "file_extension": ".py",
   "mimetype": "text/x-python",
   "name": "python",
   "nbconvert_exporter": "python",
   "pygments_lexer": "ipython3",
   "version": "3.9.13"
  }
 },
 "nbformat": 4,
 "nbformat_minor": 5
}
