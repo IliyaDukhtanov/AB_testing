{
 "cells": [
  {
   "cell_type": "markdown",
   "id": "889dd1a7",
   "metadata": {},
   "source": [
    "# Семинар 6. \n",
    "# Расчёт длительности А/B теста + продвинутые топики\n",
    "## Домашнее задание."
   ]
  },
  {
   "cell_type": "code",
   "execution_count": 2,
   "id": "c8c0a74f",
   "metadata": {},
   "outputs": [],
   "source": [
    "from statsmodels.stats.power import tt_ind_solve_power, zt_ind_solve_power\n",
    "from statsmodels.stats.proportion import proportion_effectsize\n",
    "from statsmodels.stats.meta_analysis import effectsize_smd\n",
    "from typing import Union\n",
    "import plotly.graph_objects as go\n",
    "from scipy import stats\n",
    "from math import asin\n",
    "import numpy as np"
   ]
  },
  {
   "cell_type": "markdown",
   "id": "e0f6d463",
   "metadata": {},
   "source": [
    "### Задание 1. \n",
    "Продакт на главной mail.ru решил протестировать в рекомендательной ленте контента вместо карточек со статьями видеоплеер с короткими видео. Нынешний таймспент на юзера в день в среднем равен 25 минут, а стандартная ошибка (SD) равна 156.    \n",
    "Мы предполагаем, что в новой версии таймспент на юзера в день изменится на 10%. Средний трафик 20000 человек в день.   \n",
    "Посчитайте сколько дней необходимо держать эксперимент при alpha = 5% и beta = 20% "
   ]
  },
  {
   "cell_type": "markdown",
   "id": "03bce84f",
   "metadata": {},
   "source": [
    "Исходные данные:"
   ]
  },
  {
   "cell_type": "code",
   "execution_count": 9,
   "id": "b5793886",
   "metadata": {},
   "outputs": [
    {
     "data": {
      "text/plain": [
       "27.5"
      ]
     },
     "execution_count": 9,
     "metadata": {},
     "output_type": "execute_result"
    }
   ],
   "source": [
    "user_time_1 = 25   # средний таймспент юзера\n",
    "std_1, std_2 = 156, 156 * 1.15          # стандартная ошибка. Принимаем на 15% больше для тестовой группы\n",
    "delta = 0.1        # изменение таймспента юзера\n",
    "user_time_2 = np.round(user_time_1 + user_time_1 * delta , 2)  # новый таймспент юзера\n",
    "DAU = 20000   # количество посетителей сайта в день\n",
    "alfa = 0.05\n",
    "beta = 0.2\n",
    "user_time_2"
   ]
  },
  {
   "cell_type": "markdown",
   "id": "6a38315e",
   "metadata": {},
   "source": [
    "По имеющимся данным рассчитаем размер выборки для оценки изменений:"
   ]
  },
  {
   "cell_type": "markdown",
   "id": "cc502d4c",
   "metadata": {},
   "source": [
    "1. Найдем effectsize для непрерывной метрики"
   ]
  },
  {
   "cell_type": "code",
   "execution_count": 10,
   "id": "41b05c10",
   "metadata": {},
   "outputs": [],
   "source": [
    "def calc_continuous_es_alt(mean_control: Union[float, int],\n",
    "                            std_control: Union[float, int],\n",
    "                            mean_test: Union[float, int],\n",
    "                            std_test: Union[float, int]):\n",
    "    \n",
    "    effect_size = (mean_test - mean_control) / ((std_control**2 + std_test**2) / 2) ** 0.5\n",
    "    return effect_size"
   ]
  },
  {
   "cell_type": "code",
   "execution_count": 11,
   "id": "d4f335fd",
   "metadata": {},
   "outputs": [
    {
     "data": {
      "text/plain": [
       "0.014871423685692022"
      ]
     },
     "execution_count": 11,
     "metadata": {},
     "output_type": "execute_result"
    }
   ],
   "source": [
    "es_count = calc_continuous_es_alt(user_time_1, std_1, user_time_2, std_2)\n",
    "es_count"
   ]
  },
  {
   "cell_type": "markdown",
   "id": "9da17847",
   "metadata": {},
   "source": [
    "2. Рассчитаем минимально необходимую выборку для полученного effectsize "
   ]
  },
  {
   "cell_type": "code",
   "execution_count": 12,
   "id": "6130babc",
   "metadata": {},
   "outputs": [],
   "source": [
    "def calc_sample_size_continous(effect_size: float, \n",
    "                              alpha: float = 0.05,\n",
    "                              beta: float = 0.2,\n",
    "                              ratio: Union[float, int] = 1):\n",
    "    \n",
    "    n = tt_ind_solve_power(effect_size=effect_size, \n",
    "                              alpha=alpha,\n",
    "                              power=1-beta,\n",
    "                              ratio=ratio,\n",
    "                          )\n",
    "    return int(n * 2)"
   ]
  },
  {
   "cell_type": "code",
   "execution_count": 13,
   "id": "9f92e5f9",
   "metadata": {
    "scrolled": true
   },
   "outputs": [
    {
     "name": "stdout",
     "output_type": "stream",
     "text": [
      "Минимальное количество пользователей сайта, необходимое для проверки результатов эксперимента:141960\n"
     ]
    }
   ],
   "source": [
    "print(f'Минимальное количество пользователей сайта, необходимое для проверки результатов эксперимента:{calc_sample_size_continous(es_count)}')"
   ]
  },
  {
   "cell_type": "markdown",
   "id": "11b29624",
   "metadata": {},
   "source": [
    "3. Расситаем длительность эксперимента в днях.    \n",
    "\n",
    "Для этого полученное значение минимально необходимой выборки разделим на количество пользователей, посещающих сайт в день:"
   ]
  },
  {
   "cell_type": "code",
   "execution_count": 14,
   "id": "44205daa",
   "metadata": {},
   "outputs": [
    {
     "name": "stdout",
     "output_type": "stream",
     "text": [
      "Количество дней эксперимента: 7.098\n"
     ]
    }
   ],
   "source": [
    "print(f'Количество дней эксперимента: {calc_sample_size_continous(es_count) / DAU}')"
   ]
  },
  {
   "cell_type": "markdown",
   "id": "bbed5583",
   "metadata": {},
   "source": [
    "**Ответ:    \n",
    "Для оценки результатов изменений эксперимент должен длиться 7 дней при alpha = 5% и beta = 20%.****"
   ]
  },
  {
   "cell_type": "markdown",
   "id": "d7ef08d8",
   "metadata": {},
   "source": [
    "### Задание 2. \n",
    "Наша продуктовая команда в ecommerce магазине планирует запустить тест, направленный на ускорение загрузки сайта.    \n",
    "Одна из основных метрик bounce rate в GA = 40%.    \n",
    "Мы предполагаем, что при оптимизации сайта она изменится минимум на 20%.   \n",
    "Средний трафик  4000 человек в день.    \n",
    "Посчитайте сколько нам нужно дней держать эксперимент при alpha = 5% и beta = 20%"
   ]
  },
  {
   "cell_type": "code",
   "execution_count": 27,
   "id": "e119ae3e",
   "metadata": {},
   "outputs": [],
   "source": [
    "br_1 = 0.4   # текущий bounce rate\n",
    "br_2 = br_1 - (br_1 * 0.2) # ожидаемый bounce rate\n",
    "DAU = 4000  # количество посетителей сайта в день"
   ]
  },
  {
   "cell_type": "markdown",
   "id": "ba6c38fb",
   "metadata": {},
   "source": [
    "По имеющимся данным рассчитаем размер выборки для оценки изменений:"
   ]
  },
  {
   "cell_type": "markdown",
   "id": "2b4776f5",
   "metadata": {},
   "source": [
    "1. Найдем effectsize для дискретной метрики"
   ]
  },
  {
   "cell_type": "code",
   "execution_count": 28,
   "id": "a76984de",
   "metadata": {},
   "outputs": [],
   "source": [
    "def calc_proportion_es(prob1: float, prob2: float):\n",
    "    \n",
    "    return abs(proportion_effectsize(prob1, prob2))"
   ]
  },
  {
   "cell_type": "code",
   "execution_count": 29,
   "id": "fe2d1e58",
   "metadata": {},
   "outputs": [
    {
     "data": {
      "text/plain": [
       "0.16690997264630925"
      ]
     },
     "execution_count": 29,
     "metadata": {},
     "output_type": "execute_result"
    }
   ],
   "source": [
    "es_prop = calc_proportion_es(br_1, br_2)\n",
    "es_prop"
   ]
  },
  {
   "cell_type": "markdown",
   "id": "1c4a6b3d",
   "metadata": {},
   "source": [
    "2. Рассчитаем минимально необходимую выборку для полученного effectsize "
   ]
  },
  {
   "cell_type": "code",
   "execution_count": 30,
   "id": "0561b088",
   "metadata": {},
   "outputs": [],
   "source": [
    "def calc_sample_size_proportion(effect_size: float, \n",
    "                              alpha: float = 0.05,\n",
    "                              beta: float = 0.2,\n",
    "                              ratio: Union[float, int] = 1):\n",
    "    \n",
    "    n = zt_ind_solve_power(effect_size=effect_size, \n",
    "                              alpha=alpha,\n",
    "                              power=1-beta,\n",
    "                              ratio=ratio,\n",
    "                          )\n",
    "    return int(n * 2)"
   ]
  },
  {
   "cell_type": "code",
   "execution_count": 31,
   "id": "8a7c0980",
   "metadata": {},
   "outputs": [
    {
     "name": "stdout",
     "output_type": "stream",
     "text": [
      "Минимальное количество пользователей сайта, необходимое для проверки результатов эксперимента:1126\n"
     ]
    }
   ],
   "source": [
    "print(f'Минимальное количество пользователей сайта, необходимое для проверки результатов эксперимента:{calc_sample_size_proportion(es_prop)}')"
   ]
  },
  {
   "cell_type": "markdown",
   "id": "17b44eb6",
   "metadata": {},
   "source": [
    "3. Расситаем длительность эксперимента в днях.    \n",
    "\n",
    "Для этого полученное значение минимально необходимой выборки разделим на количество пользователей, посещающих сайт в день:"
   ]
  },
  {
   "cell_type": "code",
   "execution_count": 32,
   "id": "ddcaf7ab",
   "metadata": {},
   "outputs": [
    {
     "name": "stdout",
     "output_type": "stream",
     "text": [
      "Количество дней эксперимента: 0.2815\n"
     ]
    }
   ],
   "source": [
    "print(f'Количество дней эксперимента: {calc_sample_size_proportion(es_prop) / DAU}')"
   ]
  },
  {
   "cell_type": "markdown",
   "id": "ace1237d",
   "metadata": {},
   "source": [
    "**Ответ:    \n",
    "Для оценки результатов изменений эксперимент должен длиться 0,3 дня при alpha = 5% и beta = 20%.**"
   ]
  },
  {
   "cell_type": "code",
   "execution_count": null,
   "id": "5b664270",
   "metadata": {},
   "outputs": [],
   "source": []
  }
 ],
 "metadata": {
  "kernelspec": {
   "display_name": "Python 3 (ipykernel)",
   "language": "python",
   "name": "python3"
  },
  "language_info": {
   "codemirror_mode": {
    "name": "ipython",
    "version": 3
   },
   "file_extension": ".py",
   "mimetype": "text/x-python",
   "name": "python",
   "nbconvert_exporter": "python",
   "pygments_lexer": "ipython3",
   "version": "3.9.13"
  }
 },
 "nbformat": 4,
 "nbformat_minor": 5
}
